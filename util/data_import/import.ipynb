{
 "cells": [
  {
   "cell_type": "code",
   "execution_count": 2,
   "metadata": {},
   "outputs": [],
   "source": [
    "import pandas as pd\n",
    "from db_operation_functions import queryComposer"
   ]
  },
  {
   "cell_type": "code",
   "execution_count": 3,
   "metadata": {},
   "outputs": [],
   "source": [
    "df = pd.read_excel(\"Сценарии и меры.xlsx\")\n"
   ]
  },
  {
   "cell_type": "code",
   "execution_count": 4,
   "metadata": {},
   "outputs": [
    {
     "data": {
      "text/html": [
       "<div>\n",
       "<style scoped>\n",
       "    .dataframe tbody tr th:only-of-type {\n",
       "        vertical-align: middle;\n",
       "    }\n",
       "\n",
       "    .dataframe tbody tr th {\n",
       "        vertical-align: top;\n",
       "    }\n",
       "\n",
       "    .dataframe thead th {\n",
       "        text-align: right;\n",
       "    }\n",
       "</style>\n",
       "<table border=\"1\" class=\"dataframe\">\n",
       "  <thead>\n",
       "    <tr style=\"text-align: right;\">\n",
       "      <th></th>\n",
       "      <th>№</th>\n",
       "      <th>Наименование риска</th>\n",
       "      <th>Класс опасности</th>\n",
       "      <th>Вероятность</th>\n",
       "      <th>Ущерб</th>\n",
       "      <th>Риск</th>\n",
       "      <th>Возможные сценарии</th>\n",
       "      <th>Меры/рекомендации</th>\n",
       "    </tr>\n",
       "  </thead>\n",
       "  <tbody>\n",
       "    <tr>\n",
       "      <th>0</th>\n",
       "      <td>1.0</td>\n",
       "      <td>Утечка газообразного азота</td>\n",
       "      <td>Технологические риски</td>\n",
       "      <td>Средняя</td>\n",
       "      <td>Средний</td>\n",
       "      <td>5.0</td>\n",
       "      <td>a. Утечка газообразного азота может привести к...</td>\n",
       "      <td>a. Регулярное техническое обслуживание и прове...</td>\n",
       "    </tr>\n",
       "    <tr>\n",
       "      <th>1</th>\n",
       "      <td>NaN</td>\n",
       "      <td>NaN</td>\n",
       "      <td>NaN</td>\n",
       "      <td>NaN</td>\n",
       "      <td>NaN</td>\n",
       "      <td>NaN</td>\n",
       "      <td>NaN</td>\n",
       "      <td>b. Обучение персонала правилам эксплуатации и ...</td>\n",
       "    </tr>\n",
       "    <tr>\n",
       "      <th>2</th>\n",
       "      <td>NaN</td>\n",
       "      <td>NaN</td>\n",
       "      <td>NaN</td>\n",
       "      <td>NaN</td>\n",
       "      <td>NaN</td>\n",
       "      <td>NaN</td>\n",
       "      <td>NaN</td>\n",
       "      <td>c. Установка датчиков кислорода и сигнализации...</td>\n",
       "    </tr>\n",
       "    <tr>\n",
       "      <th>3</th>\n",
       "      <td>NaN</td>\n",
       "      <td>NaN</td>\n",
       "      <td>NaN</td>\n",
       "      <td>NaN</td>\n",
       "      <td>NaN</td>\n",
       "      <td>NaN</td>\n",
       "      <td>NaN</td>\n",
       "      <td>d. Использование специальных средств индивидуа...</td>\n",
       "    </tr>\n",
       "    <tr>\n",
       "      <th>4</th>\n",
       "      <td>2.0</td>\n",
       "      <td>Утечка метанола (метанольная вода)</td>\n",
       "      <td>Экологические риски</td>\n",
       "      <td>Низкая</td>\n",
       "      <td>Средний</td>\n",
       "      <td>3.0</td>\n",
       "      <td>a. Утечка метанола может вызвать пожары и взры...</td>\n",
       "      <td>a. Регулярное техническое обслуживание и прове...</td>\n",
       "    </tr>\n",
       "  </tbody>\n",
       "</table>\n",
       "</div>"
      ],
      "text/plain": [
       "     №                  Наименование риска        Класс опасности Вероятность  \\\n",
       "0  1.0          Утечка газообразного азота  Технологические риски     Средняя   \n",
       "1  NaN                                 NaN                    NaN         NaN   \n",
       "2  NaN                                 NaN                    NaN         NaN   \n",
       "3  NaN                                 NaN                    NaN         NaN   \n",
       "4  2.0  Утечка метанола (метанольная вода)    Экологические риски      Низкая   \n",
       "\n",
       "     Ущерб  Риск                                 Возможные сценарии  \\\n",
       "0  Средний   5.0  a. Утечка газообразного азота может привести к...   \n",
       "1      NaN   NaN                                                NaN   \n",
       "2      NaN   NaN                                                NaN   \n",
       "3      NaN   NaN                                                NaN   \n",
       "4  Средний   3.0  a. Утечка метанола может вызвать пожары и взры...   \n",
       "\n",
       "                                   Меры/рекомендации  \n",
       "0  a. Регулярное техническое обслуживание и прове...  \n",
       "1  b. Обучение персонала правилам эксплуатации и ...  \n",
       "2  c. Установка датчиков кислорода и сигнализации...  \n",
       "3  d. Использование специальных средств индивидуа...  \n",
       "4  a. Регулярное техническое обслуживание и прове...  "
      ]
     },
     "execution_count": 4,
     "metadata": {},
     "output_type": "execute_result"
    }
   ],
   "source": [
    "df.head(5)\n"
   ]
  },
  {
   "cell_type": "code",
   "execution_count": 5,
   "metadata": {},
   "outputs": [],
   "source": [
    "df.rename(columns={\"№\":\"risk_id\"}, inplace=True)\n"
   ]
  },
  {
   "cell_type": "code",
   "execution_count": 6,
   "metadata": {},
   "outputs": [
    {
     "data": {
      "text/html": [
       "<div>\n",
       "<style scoped>\n",
       "    .dataframe tbody tr th:only-of-type {\n",
       "        vertical-align: middle;\n",
       "    }\n",
       "\n",
       "    .dataframe tbody tr th {\n",
       "        vertical-align: top;\n",
       "    }\n",
       "\n",
       "    .dataframe thead th {\n",
       "        text-align: right;\n",
       "    }\n",
       "</style>\n",
       "<table border=\"1\" class=\"dataframe\">\n",
       "  <thead>\n",
       "    <tr style=\"text-align: right;\">\n",
       "      <th></th>\n",
       "      <th>risk_id</th>\n",
       "      <th>Наименование риска</th>\n",
       "      <th>Класс опасности</th>\n",
       "      <th>Вероятность</th>\n",
       "      <th>Ущерб</th>\n",
       "      <th>Риск</th>\n",
       "      <th>Возможные сценарии</th>\n",
       "      <th>Меры/рекомендации</th>\n",
       "    </tr>\n",
       "  </thead>\n",
       "  <tbody>\n",
       "    <tr>\n",
       "      <th>0</th>\n",
       "      <td>1.0</td>\n",
       "      <td>Утечка газообразного азота</td>\n",
       "      <td>Технологические риски</td>\n",
       "      <td>Средняя</td>\n",
       "      <td>Средний</td>\n",
       "      <td>5.0</td>\n",
       "      <td>a. Утечка газообразного азота может привести к...</td>\n",
       "      <td>a. Регулярное техническое обслуживание и прове...</td>\n",
       "    </tr>\n",
       "    <tr>\n",
       "      <th>1</th>\n",
       "      <td>NaN</td>\n",
       "      <td>NaN</td>\n",
       "      <td>NaN</td>\n",
       "      <td>NaN</td>\n",
       "      <td>NaN</td>\n",
       "      <td>NaN</td>\n",
       "      <td>NaN</td>\n",
       "      <td>b. Обучение персонала правилам эксплуатации и ...</td>\n",
       "    </tr>\n",
       "    <tr>\n",
       "      <th>2</th>\n",
       "      <td>NaN</td>\n",
       "      <td>NaN</td>\n",
       "      <td>NaN</td>\n",
       "      <td>NaN</td>\n",
       "      <td>NaN</td>\n",
       "      <td>NaN</td>\n",
       "      <td>NaN</td>\n",
       "      <td>c. Установка датчиков кислорода и сигнализации...</td>\n",
       "    </tr>\n",
       "    <tr>\n",
       "      <th>3</th>\n",
       "      <td>NaN</td>\n",
       "      <td>NaN</td>\n",
       "      <td>NaN</td>\n",
       "      <td>NaN</td>\n",
       "      <td>NaN</td>\n",
       "      <td>NaN</td>\n",
       "      <td>NaN</td>\n",
       "      <td>d. Использование специальных средств индивидуа...</td>\n",
       "    </tr>\n",
       "    <tr>\n",
       "      <th>4</th>\n",
       "      <td>2.0</td>\n",
       "      <td>Утечка метанола (метанольная вода)</td>\n",
       "      <td>Экологические риски</td>\n",
       "      <td>Низкая</td>\n",
       "      <td>Средний</td>\n",
       "      <td>3.0</td>\n",
       "      <td>a. Утечка метанола может вызвать пожары и взры...</td>\n",
       "      <td>a. Регулярное техническое обслуживание и прове...</td>\n",
       "    </tr>\n",
       "  </tbody>\n",
       "</table>\n",
       "</div>"
      ],
      "text/plain": [
       "   risk_id                  Наименование риска        Класс опасности  \\\n",
       "0      1.0          Утечка газообразного азота  Технологические риски   \n",
       "1      NaN                                 NaN                    NaN   \n",
       "2      NaN                                 NaN                    NaN   \n",
       "3      NaN                                 NaN                    NaN   \n",
       "4      2.0  Утечка метанола (метанольная вода)    Экологические риски   \n",
       "\n",
       "  Вероятность    Ущерб  Риск  \\\n",
       "0     Средняя  Средний   5.0   \n",
       "1         NaN      NaN   NaN   \n",
       "2         NaN      NaN   NaN   \n",
       "3         NaN      NaN   NaN   \n",
       "4      Низкая  Средний   3.0   \n",
       "\n",
       "                                  Возможные сценарии  \\\n",
       "0  a. Утечка газообразного азота может привести к...   \n",
       "1                                                NaN   \n",
       "2                                                NaN   \n",
       "3                                                NaN   \n",
       "4  a. Утечка метанола может вызвать пожары и взры...   \n",
       "\n",
       "                                   Меры/рекомендации  \n",
       "0  a. Регулярное техническое обслуживание и прове...  \n",
       "1  b. Обучение персонала правилам эксплуатации и ...  \n",
       "2  c. Установка датчиков кислорода и сигнализации...  \n",
       "3  d. Использование специальных средств индивидуа...  \n",
       "4  a. Регулярное техническое обслуживание и прове...  "
      ]
     },
     "execution_count": 6,
     "metadata": {},
     "output_type": "execute_result"
    }
   ],
   "source": [
    "df.head()"
   ]
  },
  {
   "cell_type": "code",
   "execution_count": 7,
   "metadata": {},
   "outputs": [],
   "source": [
    "df[\"risk_id\"].fillna(method=\"ffill\", inplace=True)"
   ]
  },
  {
   "cell_type": "code",
   "execution_count": 9,
   "metadata": {},
   "outputs": [
    {
     "data": {
      "text/html": [
       "<div>\n",
       "<style scoped>\n",
       "    .dataframe tbody tr th:only-of-type {\n",
       "        vertical-align: middle;\n",
       "    }\n",
       "\n",
       "    .dataframe tbody tr th {\n",
       "        vertical-align: top;\n",
       "    }\n",
       "\n",
       "    .dataframe thead th {\n",
       "        text-align: right;\n",
       "    }\n",
       "</style>\n",
       "<table border=\"1\" class=\"dataframe\">\n",
       "  <thead>\n",
       "    <tr style=\"text-align: right;\">\n",
       "      <th></th>\n",
       "      <th>risk_id</th>\n",
       "      <th>Наименование риска</th>\n",
       "      <th>Класс опасности</th>\n",
       "      <th>Вероятность</th>\n",
       "      <th>Ущерб</th>\n",
       "      <th>Риск</th>\n",
       "      <th>Возможные сценарии</th>\n",
       "      <th>Меры/рекомендации</th>\n",
       "    </tr>\n",
       "  </thead>\n",
       "  <tbody>\n",
       "    <tr>\n",
       "      <th>0</th>\n",
       "      <td>1.0</td>\n",
       "      <td>Утечка газообразного азота</td>\n",
       "      <td>Технологические риски</td>\n",
       "      <td>Средняя</td>\n",
       "      <td>Средний</td>\n",
       "      <td>5.0</td>\n",
       "      <td>a. Утечка газообразного азота может привести к...</td>\n",
       "      <td>a. Регулярное техническое обслуживание и прове...</td>\n",
       "    </tr>\n",
       "    <tr>\n",
       "      <th>1</th>\n",
       "      <td>1.0</td>\n",
       "      <td>NaN</td>\n",
       "      <td>NaN</td>\n",
       "      <td>NaN</td>\n",
       "      <td>NaN</td>\n",
       "      <td>NaN</td>\n",
       "      <td>NaN</td>\n",
       "      <td>b. Обучение персонала правилам эксплуатации и ...</td>\n",
       "    </tr>\n",
       "    <tr>\n",
       "      <th>2</th>\n",
       "      <td>1.0</td>\n",
       "      <td>NaN</td>\n",
       "      <td>NaN</td>\n",
       "      <td>NaN</td>\n",
       "      <td>NaN</td>\n",
       "      <td>NaN</td>\n",
       "      <td>NaN</td>\n",
       "      <td>c. Установка датчиков кислорода и сигнализации...</td>\n",
       "    </tr>\n",
       "    <tr>\n",
       "      <th>3</th>\n",
       "      <td>1.0</td>\n",
       "      <td>NaN</td>\n",
       "      <td>NaN</td>\n",
       "      <td>NaN</td>\n",
       "      <td>NaN</td>\n",
       "      <td>NaN</td>\n",
       "      <td>NaN</td>\n",
       "      <td>d. Использование специальных средств индивидуа...</td>\n",
       "    </tr>\n",
       "    <tr>\n",
       "      <th>4</th>\n",
       "      <td>2.0</td>\n",
       "      <td>Утечка метанола (метанольная вода)</td>\n",
       "      <td>Экологические риски</td>\n",
       "      <td>Низкая</td>\n",
       "      <td>Средний</td>\n",
       "      <td>3.0</td>\n",
       "      <td>a. Утечка метанола может вызвать пожары и взры...</td>\n",
       "      <td>a. Регулярное техническое обслуживание и прове...</td>\n",
       "    </tr>\n",
       "  </tbody>\n",
       "</table>\n",
       "</div>"
      ],
      "text/plain": [
       "   risk_id                  Наименование риска        Класс опасности  \\\n",
       "0      1.0          Утечка газообразного азота  Технологические риски   \n",
       "1      1.0                                 NaN                    NaN   \n",
       "2      1.0                                 NaN                    NaN   \n",
       "3      1.0                                 NaN                    NaN   \n",
       "4      2.0  Утечка метанола (метанольная вода)    Экологические риски   \n",
       "\n",
       "  Вероятность    Ущерб  Риск  \\\n",
       "0     Средняя  Средний   5.0   \n",
       "1         NaN      NaN   NaN   \n",
       "2         NaN      NaN   NaN   \n",
       "3         NaN      NaN   NaN   \n",
       "4      Низкая  Средний   3.0   \n",
       "\n",
       "                                  Возможные сценарии  \\\n",
       "0  a. Утечка газообразного азота может привести к...   \n",
       "1                                                NaN   \n",
       "2                                                NaN   \n",
       "3                                                NaN   \n",
       "4  a. Утечка метанола может вызвать пожары и взры...   \n",
       "\n",
       "                                   Меры/рекомендации  \n",
       "0  a. Регулярное техническое обслуживание и прове...  \n",
       "1  b. Обучение персонала правилам эксплуатации и ...  \n",
       "2  c. Установка датчиков кислорода и сигнализации...  \n",
       "3  d. Использование специальных средств индивидуа...  \n",
       "4  a. Регулярное техническое обслуживание и прове...  "
      ]
     },
     "execution_count": 9,
     "metadata": {},
     "output_type": "execute_result"
    }
   ],
   "source": [
    "df.head()"
   ]
  },
  {
   "cell_type": "code",
   "execution_count": 11,
   "metadata": {},
   "outputs": [],
   "source": [
    "pm_df = df.loc[:,[\"risk_id\", \"Меры/рекомендации\"]].copy()"
   ]
  },
  {
   "cell_type": "code",
   "execution_count": 13,
   "metadata": {},
   "outputs": [],
   "source": [
    "pm_df[\"risk_id\"]=pm_df[\"risk_id\"].astype(int)"
   ]
  },
  {
   "cell_type": "code",
   "execution_count": 17,
   "metadata": {},
   "outputs": [],
   "source": [
    "pm_df.dropna(inplace=True)"
   ]
  },
  {
   "cell_type": "code",
   "execution_count": 18,
   "metadata": {},
   "outputs": [
    {
     "data": {
      "text/html": [
       "<div>\n",
       "<style scoped>\n",
       "    .dataframe tbody tr th:only-of-type {\n",
       "        vertical-align: middle;\n",
       "    }\n",
       "\n",
       "    .dataframe tbody tr th {\n",
       "        vertical-align: top;\n",
       "    }\n",
       "\n",
       "    .dataframe thead th {\n",
       "        text-align: right;\n",
       "    }\n",
       "</style>\n",
       "<table border=\"1\" class=\"dataframe\">\n",
       "  <thead>\n",
       "    <tr style=\"text-align: right;\">\n",
       "      <th></th>\n",
       "      <th>risk_id</th>\n",
       "      <th>Меры/рекомендации</th>\n",
       "    </tr>\n",
       "  </thead>\n",
       "  <tbody>\n",
       "    <tr>\n",
       "      <th>0</th>\n",
       "      <td>1</td>\n",
       "      <td>a. Регулярное техническое обслуживание и прове...</td>\n",
       "    </tr>\n",
       "    <tr>\n",
       "      <th>1</th>\n",
       "      <td>1</td>\n",
       "      <td>b. Обучение персонала правилам эксплуатации и ...</td>\n",
       "    </tr>\n",
       "    <tr>\n",
       "      <th>2</th>\n",
       "      <td>1</td>\n",
       "      <td>c. Установка датчиков кислорода и сигнализации...</td>\n",
       "    </tr>\n",
       "    <tr>\n",
       "      <th>3</th>\n",
       "      <td>1</td>\n",
       "      <td>d. Использование специальных средств индивидуа...</td>\n",
       "    </tr>\n",
       "    <tr>\n",
       "      <th>4</th>\n",
       "      <td>2</td>\n",
       "      <td>a. Регулярное техническое обслуживание и прове...</td>\n",
       "    </tr>\n",
       "    <tr>\n",
       "      <th>5</th>\n",
       "      <td>2</td>\n",
       "      <td>b. Обучение персонала правилам безопасной раб...</td>\n",
       "    </tr>\n",
       "    <tr>\n",
       "      <th>6</th>\n",
       "      <td>2</td>\n",
       "      <td>c. Установка датчиков утечки метанола и систем...</td>\n",
       "    </tr>\n",
       "    <tr>\n",
       "      <th>7</th>\n",
       "      <td>2</td>\n",
       "      <td>d. Использование средств индивидуальной защиты...</td>\n",
       "    </tr>\n",
       "    <tr>\n",
       "      <th>9</th>\n",
       "      <td>3</td>\n",
       "      <td>a. Регулярное техническое обслуживание и прове...</td>\n",
       "    </tr>\n",
       "    <tr>\n",
       "      <th>10</th>\n",
       "      <td>3</td>\n",
       "      <td>b. Обучение персонала правилам безопасной рабо...</td>\n",
       "    </tr>\n",
       "  </tbody>\n",
       "</table>\n",
       "</div>"
      ],
      "text/plain": [
       "    risk_id                                  Меры/рекомендации\n",
       "0         1  a. Регулярное техническое обслуживание и прове...\n",
       "1         1  b. Обучение персонала правилам эксплуатации и ...\n",
       "2         1  c. Установка датчиков кислорода и сигнализации...\n",
       "3         1  d. Использование специальных средств индивидуа...\n",
       "4         2  a. Регулярное техническое обслуживание и прове...\n",
       "5         2   b. Обучение персонала правилам безопасной раб...\n",
       "6         2  c. Установка датчиков утечки метанола и систем...\n",
       "7         2  d. Использование средств индивидуальной защиты...\n",
       "9         3  a. Регулярное техническое обслуживание и прове...\n",
       "10        3  b. Обучение персонала правилам безопасной рабо..."
      ]
     },
     "execution_count": 18,
     "metadata": {},
     "output_type": "execute_result"
    }
   ],
   "source": [
    "pm_df.head(10)"
   ]
  },
  {
   "cell_type": "code",
   "execution_count": 19,
   "metadata": {},
   "outputs": [],
   "source": [
    "pm_df.to_csv(\"pm_df_data.csv\")"
   ]
  },
  {
   "attachments": {},
   "cell_type": "markdown",
   "metadata": {},
   "source": [
    "# Here we create csv for risk register main table\n"
   ]
  },
  {
   "cell_type": "code",
   "execution_count": 20,
   "metadata": {},
   "outputs": [
    {
     "data": {
      "text/plain": [
       "Index(['risk_id', 'Наименование риска', 'Класс опасности', 'Вероятность',\n",
       "       'Ущерб', 'Риск', 'Возможные сценарии', 'Меры/рекомендации'],\n",
       "      dtype='object')"
      ]
     },
     "execution_count": 20,
     "metadata": {},
     "output_type": "execute_result"
    }
   ],
   "source": [
    "df.columns"
   ]
  },
  {
   "cell_type": "code",
   "execution_count": 26,
   "metadata": {},
   "outputs": [],
   "source": [
    "risk_df = df.drop(columns=[\"Меры/рекомендации\"])"
   ]
  },
  {
   "cell_type": "code",
   "execution_count": 27,
   "metadata": {},
   "outputs": [],
   "source": [
    "risk_df = risk_df[risk_df[\"Возможные сценарии\"].notna()]\n"
   ]
  },
  {
   "cell_type": "code",
   "execution_count": 31,
   "metadata": {},
   "outputs": [],
   "source": [
    "merged_risk_df = risk_df.groupby(\"risk_id\").agg({\"Возможные сценарии\":lambda s: \", \".join(s)}).reset_index()"
   ]
  },
  {
   "cell_type": "code",
   "execution_count": 33,
   "metadata": {},
   "outputs": [],
   "source": [
    "merged_risk_df[\"risk_id\"] = merged_risk_df[\"risk_id\"].astype(int)"
   ]
  },
  {
   "cell_type": "code",
   "execution_count": 45,
   "metadata": {},
   "outputs": [
    {
     "data": {
      "text/html": [
       "<div>\n",
       "<style scoped>\n",
       "    .dataframe tbody tr th:only-of-type {\n",
       "        vertical-align: middle;\n",
       "    }\n",
       "\n",
       "    .dataframe tbody tr th {\n",
       "        vertical-align: top;\n",
       "    }\n",
       "\n",
       "    .dataframe thead th {\n",
       "        text-align: right;\n",
       "    }\n",
       "</style>\n",
       "<table border=\"1\" class=\"dataframe\">\n",
       "  <thead>\n",
       "    <tr style=\"text-align: right;\">\n",
       "      <th></th>\n",
       "      <th>risk_id</th>\n",
       "      <th>Возможные сценарии</th>\n",
       "    </tr>\n",
       "  </thead>\n",
       "  <tbody>\n",
       "    <tr>\n",
       "      <th>0</th>\n",
       "      <td>1</td>\n",
       "      <td>a. Утечка газообразного азота может привести к...</td>\n",
       "    </tr>\n",
       "    <tr>\n",
       "      <th>1</th>\n",
       "      <td>2</td>\n",
       "      <td>a. Утечка метанола может вызвать пожары и взры...</td>\n",
       "    </tr>\n",
       "    <tr>\n",
       "      <th>2</th>\n",
       "      <td>3</td>\n",
       "      <td>a. Утечка индустриального масла может вызвать ...</td>\n",
       "    </tr>\n",
       "    <tr>\n",
       "      <th>3</th>\n",
       "      <td>4</td>\n",
       "      <td>a. Утечка топливного газа может вызвать риск в...</td>\n",
       "    </tr>\n",
       "    <tr>\n",
       "      <th>4</th>\n",
       "      <td>5</td>\n",
       "      <td>a. Утечка нефтегазоконденсатной смеси может вы...</td>\n",
       "    </tr>\n",
       "    <tr>\n",
       "      <th>5</th>\n",
       "      <td>6</td>\n",
       "      <td>a. Утечка газа через неплотности фланцевых сое...</td>\n",
       "    </tr>\n",
       "    <tr>\n",
       "      <th>6</th>\n",
       "      <td>7</td>\n",
       "      <td>a. Превышение допустимых параметров работы обо...</td>\n",
       "    </tr>\n",
       "    <tr>\n",
       "      <th>7</th>\n",
       "      <td>8</td>\n",
       "      <td>a. Использование неисправного инструмента в зо...</td>\n",
       "    </tr>\n",
       "    <tr>\n",
       "      <th>8</th>\n",
       "      <td>9</td>\n",
       "      <td>a. Ремонтные работы с использованием открытого...</td>\n",
       "    </tr>\n",
       "    <tr>\n",
       "      <th>9</th>\n",
       "      <td>10</td>\n",
       "      <td>a. Отказ технологического оборудования - наруш...</td>\n",
       "    </tr>\n",
       "  </tbody>\n",
       "</table>\n",
       "</div>"
      ],
      "text/plain": [
       "   risk_id                                 Возможные сценарии\n",
       "0        1  a. Утечка газообразного азота может привести к...\n",
       "1        2  a. Утечка метанола может вызвать пожары и взры...\n",
       "2        3  a. Утечка индустриального масла может вызвать ...\n",
       "3        4  a. Утечка топливного газа может вызвать риск в...\n",
       "4        5  a. Утечка нефтегазоконденсатной смеси может вы...\n",
       "5        6  a. Утечка газа через неплотности фланцевых сое...\n",
       "6        7  a. Превышение допустимых параметров работы обо...\n",
       "7        8  a. Использование неисправного инструмента в зо...\n",
       "8        9  a. Ремонтные работы с использованием открытого...\n",
       "9       10  a. Отказ технологического оборудования - наруш..."
      ]
     },
     "execution_count": 45,
     "metadata": {},
     "output_type": "execute_result"
    }
   ],
   "source": [
    "merged_risk_df.head(10)"
   ]
  },
  {
   "cell_type": "code",
   "execution_count": 46,
   "metadata": {},
   "outputs": [],
   "source": [
    "n_risk_df = risk_df[risk_df[\"Класс опасности\"].notna()]"
   ]
  },
  {
   "cell_type": "code",
   "execution_count": 47,
   "metadata": {},
   "outputs": [
    {
     "name": "stderr",
     "output_type": "stream",
     "text": [
      "C:\\Users\\Miqasa\\AppData\\Local\\Temp\\ipykernel_16620\\2439829573.py:1: SettingWithCopyWarning: \n",
      "A value is trying to be set on a copy of a slice from a DataFrame\n",
      "\n",
      "See the caveats in the documentation: https://pandas.pydata.org/pandas-docs/stable/user_guide/indexing.html#returning-a-view-versus-a-copy\n",
      "  n_risk_df.drop(columns=[\"Возможные сценарии\"], inplace=True)\n"
     ]
    }
   ],
   "source": [
    "n_risk_df.drop(columns=[\"Возможные сценарии\"], inplace=True)"
   ]
  },
  {
   "cell_type": "code",
   "execution_count": 49,
   "metadata": {},
   "outputs": [
    {
     "name": "stderr",
     "output_type": "stream",
     "text": [
      "C:\\Users\\Miqasa\\AppData\\Local\\Temp\\ipykernel_16620\\77158031.py:1: SettingWithCopyWarning: \n",
      "A value is trying to be set on a copy of a slice from a DataFrame.\n",
      "Try using .loc[row_indexer,col_indexer] = value instead\n",
      "\n",
      "See the caveats in the documentation: https://pandas.pydata.org/pandas-docs/stable/user_guide/indexing.html#returning-a-view-versus-a-copy\n",
      "  n_risk_df[\"risk_id\"] = n_risk_df[\"risk_id\"].astype(int)\n"
     ]
    }
   ],
   "source": [
    "n_risk_df[\"risk_id\"] = n_risk_df[\"risk_id\"].astype(int)"
   ]
  },
  {
   "cell_type": "code",
   "execution_count": 50,
   "metadata": {},
   "outputs": [
    {
     "data": {
      "text/html": [
       "<div>\n",
       "<style scoped>\n",
       "    .dataframe tbody tr th:only-of-type {\n",
       "        vertical-align: middle;\n",
       "    }\n",
       "\n",
       "    .dataframe tbody tr th {\n",
       "        vertical-align: top;\n",
       "    }\n",
       "\n",
       "    .dataframe thead th {\n",
       "        text-align: right;\n",
       "    }\n",
       "</style>\n",
       "<table border=\"1\" class=\"dataframe\">\n",
       "  <thead>\n",
       "    <tr style=\"text-align: right;\">\n",
       "      <th></th>\n",
       "      <th>risk_id</th>\n",
       "      <th>Наименование риска</th>\n",
       "      <th>Класс опасности</th>\n",
       "      <th>Вероятность</th>\n",
       "      <th>Ущерб</th>\n",
       "      <th>Риск</th>\n",
       "    </tr>\n",
       "  </thead>\n",
       "  <tbody>\n",
       "    <tr>\n",
       "      <th>0</th>\n",
       "      <td>1</td>\n",
       "      <td>Утечка газообразного азота</td>\n",
       "      <td>Технологические риски</td>\n",
       "      <td>Средняя</td>\n",
       "      <td>Средний</td>\n",
       "      <td>5.0</td>\n",
       "    </tr>\n",
       "    <tr>\n",
       "      <th>4</th>\n",
       "      <td>2</td>\n",
       "      <td>Утечка метанола (метанольная вода)</td>\n",
       "      <td>Экологические риски</td>\n",
       "      <td>Низкая</td>\n",
       "      <td>Средний</td>\n",
       "      <td>3.0</td>\n",
       "    </tr>\n",
       "    <tr>\n",
       "      <th>13</th>\n",
       "      <td>3</td>\n",
       "      <td>Утечка сероводорода, сероводорода в смеси с уг...</td>\n",
       "      <td>Технологические риски</td>\n",
       "      <td>Средняя</td>\n",
       "      <td>Средний</td>\n",
       "      <td>5.0</td>\n",
       "    </tr>\n",
       "    <tr>\n",
       "      <th>18</th>\n",
       "      <td>4</td>\n",
       "      <td>Утечка топливного газа</td>\n",
       "      <td>Экологические риски</td>\n",
       "      <td>Высокая</td>\n",
       "      <td>Высокий</td>\n",
       "      <td>9.0</td>\n",
       "    </tr>\n",
       "    <tr>\n",
       "      <th>23</th>\n",
       "      <td>5</td>\n",
       "      <td>Утечка нефтегазоконденсатной смеси</td>\n",
       "      <td>Экологические риски</td>\n",
       "      <td>Средняя</td>\n",
       "      <td>Средний</td>\n",
       "      <td>5.0</td>\n",
       "    </tr>\n",
       "    <tr>\n",
       "      <th>28</th>\n",
       "      <td>6</td>\n",
       "      <td>Загазованность рабочих помещений и территории ...</td>\n",
       "      <td>Технологические риски</td>\n",
       "      <td>Высокая</td>\n",
       "      <td>Высокий</td>\n",
       "      <td>9.0</td>\n",
       "    </tr>\n",
       "    <tr>\n",
       "      <th>31</th>\n",
       "      <td>7</td>\n",
       "      <td>Нарушения технологического режима работы обору...</td>\n",
       "      <td>Риски персонала</td>\n",
       "      <td>Средняя</td>\n",
       "      <td>Средний</td>\n",
       "      <td>5.0</td>\n",
       "    </tr>\n",
       "    <tr>\n",
       "      <th>34</th>\n",
       "      <td>8</td>\n",
       "      <td>Применение при производстве ремонтных работ не...</td>\n",
       "      <td>Технологические риски</td>\n",
       "      <td>Средняя</td>\n",
       "      <td>Средний</td>\n",
       "      <td>5.0</td>\n",
       "    </tr>\n",
       "    <tr>\n",
       "      <th>37</th>\n",
       "      <td>9</td>\n",
       "      <td>Производство ремонтных работ на территории цех...</td>\n",
       "      <td>Риски персонала</td>\n",
       "      <td>Средняя</td>\n",
       "      <td>Высокий</td>\n",
       "      <td>6.0</td>\n",
       "    </tr>\n",
       "    <tr>\n",
       "      <th>40</th>\n",
       "      <td>10</td>\n",
       "      <td>Неисправность технологического оборудования, с...</td>\n",
       "      <td>Технологические риски</td>\n",
       "      <td>Высокая</td>\n",
       "      <td>Высокий</td>\n",
       "      <td>9.0</td>\n",
       "    </tr>\n",
       "  </tbody>\n",
       "</table>\n",
       "</div>"
      ],
      "text/plain": [
       "    risk_id                                 Наименование риска  \\\n",
       "0         1                         Утечка газообразного азота   \n",
       "4         2                 Утечка метанола (метанольная вода)   \n",
       "13        3  Утечка сероводорода, сероводорода в смеси с уг...   \n",
       "18        4                             Утечка топливного газа   \n",
       "23        5                 Утечка нефтегазоконденсатной смеси   \n",
       "28        6  Загазованность рабочих помещений и территории ...   \n",
       "31        7  Нарушения технологического режима работы обору...   \n",
       "34        8  Применение при производстве ремонтных работ не...   \n",
       "37        9  Производство ремонтных работ на территории цех...   \n",
       "40       10  Неисправность технологического оборудования, с...   \n",
       "\n",
       "          Класс опасности Вероятность    Ущерб  Риск  \n",
       "0   Технологические риски     Средняя  Средний   5.0  \n",
       "4     Экологические риски      Низкая  Средний   3.0  \n",
       "13  Технологические риски     Средняя  Средний   5.0  \n",
       "18    Экологические риски     Высокая  Высокий   9.0  \n",
       "23    Экологические риски     Средняя  Средний   5.0  \n",
       "28  Технологические риски     Высокая  Высокий   9.0  \n",
       "31        Риски персонала     Средняя  Средний   5.0  \n",
       "34  Технологические риски     Средняя  Средний   5.0  \n",
       "37        Риски персонала    Средняя   Высокий   6.0  \n",
       "40  Технологические риски     Высокая  Высокий   9.0  "
      ]
     },
     "execution_count": 50,
     "metadata": {},
     "output_type": "execute_result"
    }
   ],
   "source": [
    "n_risk_df.head(10)"
   ]
  },
  {
   "cell_type": "code",
   "execution_count": 51,
   "metadata": {},
   "outputs": [],
   "source": [
    "merged_final_df = pd.merge(n_risk_df, merged_risk_df, how=\"inner\", on=\"risk_id\")"
   ]
  },
  {
   "cell_type": "code",
   "execution_count": 53,
   "metadata": {},
   "outputs": [
    {
     "data": {
      "text/html": [
       "<div>\n",
       "<style scoped>\n",
       "    .dataframe tbody tr th:only-of-type {\n",
       "        vertical-align: middle;\n",
       "    }\n",
       "\n",
       "    .dataframe tbody tr th {\n",
       "        vertical-align: top;\n",
       "    }\n",
       "\n",
       "    .dataframe thead th {\n",
       "        text-align: right;\n",
       "    }\n",
       "</style>\n",
       "<table border=\"1\" class=\"dataframe\">\n",
       "  <thead>\n",
       "    <tr style=\"text-align: right;\">\n",
       "      <th></th>\n",
       "      <th>risk_id</th>\n",
       "      <th>Наименование риска</th>\n",
       "      <th>Класс опасности</th>\n",
       "      <th>Вероятность</th>\n",
       "      <th>Ущерб</th>\n",
       "      <th>Риск</th>\n",
       "      <th>Возможные сценарии</th>\n",
       "    </tr>\n",
       "  </thead>\n",
       "  <tbody>\n",
       "    <tr>\n",
       "      <th>0</th>\n",
       "      <td>1</td>\n",
       "      <td>Утечка газообразного азота</td>\n",
       "      <td>Технологические риски</td>\n",
       "      <td>Средняя</td>\n",
       "      <td>Средний</td>\n",
       "      <td>5.0</td>\n",
       "      <td>a. Утечка газообразного азота может привести к...</td>\n",
       "    </tr>\n",
       "    <tr>\n",
       "      <th>1</th>\n",
       "      <td>2</td>\n",
       "      <td>Утечка метанола (метанольная вода)</td>\n",
       "      <td>Экологические риски</td>\n",
       "      <td>Низкая</td>\n",
       "      <td>Средний</td>\n",
       "      <td>3.0</td>\n",
       "      <td>a. Утечка метанола может вызвать пожары и взры...</td>\n",
       "    </tr>\n",
       "    <tr>\n",
       "      <th>2</th>\n",
       "      <td>3</td>\n",
       "      <td>Утечка сероводорода, сероводорода в смеси с уг...</td>\n",
       "      <td>Технологические риски</td>\n",
       "      <td>Средняя</td>\n",
       "      <td>Средний</td>\n",
       "      <td>5.0</td>\n",
       "      <td>a. Утечка индустриального масла может вызвать ...</td>\n",
       "    </tr>\n",
       "    <tr>\n",
       "      <th>3</th>\n",
       "      <td>4</td>\n",
       "      <td>Утечка топливного газа</td>\n",
       "      <td>Экологические риски</td>\n",
       "      <td>Высокая</td>\n",
       "      <td>Высокий</td>\n",
       "      <td>9.0</td>\n",
       "      <td>a. Утечка топливного газа может вызвать риск в...</td>\n",
       "    </tr>\n",
       "    <tr>\n",
       "      <th>4</th>\n",
       "      <td>5</td>\n",
       "      <td>Утечка нефтегазоконденсатной смеси</td>\n",
       "      <td>Экологические риски</td>\n",
       "      <td>Средняя</td>\n",
       "      <td>Средний</td>\n",
       "      <td>5.0</td>\n",
       "      <td>a. Утечка нефтегазоконденсатной смеси может вы...</td>\n",
       "    </tr>\n",
       "  </tbody>\n",
       "</table>\n",
       "</div>"
      ],
      "text/plain": [
       "   risk_id                                 Наименование риска  \\\n",
       "0        1                         Утечка газообразного азота   \n",
       "1        2                 Утечка метанола (метанольная вода)   \n",
       "2        3  Утечка сероводорода, сероводорода в смеси с уг...   \n",
       "3        4                             Утечка топливного газа   \n",
       "4        5                 Утечка нефтегазоконденсатной смеси   \n",
       "\n",
       "         Класс опасности Вероятность    Ущерб  Риск  \\\n",
       "0  Технологические риски     Средняя  Средний   5.0   \n",
       "1    Экологические риски      Низкая  Средний   3.0   \n",
       "2  Технологические риски     Средняя  Средний   5.0   \n",
       "3    Экологические риски     Высокая  Высокий   9.0   \n",
       "4    Экологические риски     Средняя  Средний   5.0   \n",
       "\n",
       "                                  Возможные сценарии  \n",
       "0  a. Утечка газообразного азота может привести к...  \n",
       "1  a. Утечка метанола может вызвать пожары и взры...  \n",
       "2  a. Утечка индустриального масла может вызвать ...  \n",
       "3  a. Утечка топливного газа может вызвать риск в...  \n",
       "4  a. Утечка нефтегазоконденсатной смеси может вы...  "
      ]
     },
     "execution_count": 53,
     "metadata": {},
     "output_type": "execute_result"
    }
   ],
   "source": [
    "merged_final_df.head(5)"
   ]
  },
  {
   "cell_type": "code",
   "execution_count": 58,
   "metadata": {},
   "outputs": [
    {
     "data": {
      "text/plain": [
       "'a. Утечка метанола может вызвать пожары и взрывы из-за его высокой горючести и легковоспламеняемости, b. Утечка метанола может привести к отравлению работников и окружающей среды из-за его токсичности'"
      ]
     },
     "execution_count": 58,
     "metadata": {},
     "output_type": "execute_result"
    }
   ],
   "source": [
    "merged_final_df[\"Возможные сценарии\"][1]"
   ]
  },
  {
   "cell_type": "code",
   "execution_count": 59,
   "metadata": {},
   "outputs": [],
   "source": [
    "merged_final_df.to_csv(\"rr_df_data.csv\")"
   ]
  },
  {
   "attachments": {},
   "cell_type": "markdown",
   "metadata": {},
   "source": [
    "# save old thing and load new\n",
    "\n"
   ]
  },
  {
   "cell_type": "code",
   "execution_count": 1,
   "metadata": {},
   "outputs": [],
   "source": [
    "from db_operation_functions import queryComposer\n",
    "import pandas as pd"
   ]
  },
  {
   "cell_type": "code",
   "execution_count": 2,
   "metadata": {},
   "outputs": [],
   "source": [
    "qc= queryComposer(\"risk_register\")\n",
    "raw_data = qc.select_query(order_opt=[\"risk_id\"])\n",
    "qc.close_connection()"
   ]
  },
  {
   "cell_type": "code",
   "execution_count": 3,
   "metadata": {},
   "outputs": [],
   "source": [
    "df = pd.DataFrame(raw_data)"
   ]
  },
  {
   "cell_type": "code",
   "execution_count": 7,
   "metadata": {},
   "outputs": [
    {
     "data": {
      "text/html": [
       "<div>\n",
       "<style scoped>\n",
       "    .dataframe tbody tr th:only-of-type {\n",
       "        vertical-align: middle;\n",
       "    }\n",
       "\n",
       "    .dataframe tbody tr th {\n",
       "        vertical-align: top;\n",
       "    }\n",
       "\n",
       "    .dataframe thead th {\n",
       "        text-align: right;\n",
       "    }\n",
       "</style>\n",
       "<table border=\"1\" class=\"dataframe\">\n",
       "  <thead>\n",
       "    <tr style=\"text-align: right;\">\n",
       "      <th></th>\n",
       "      <th>risk_id</th>\n",
       "      <th>risk_name</th>\n",
       "      <th>risk_class_id</th>\n",
       "      <th>risk_details</th>\n",
       "      <th>risk_score</th>\n",
       "      <th>risk_holder</th>\n",
       "      <th>risk_prob</th>\n",
       "      <th>risk_damage</th>\n",
       "    </tr>\n",
       "  </thead>\n",
       "  <tbody>\n",
       "    <tr>\n",
       "      <th>0</th>\n",
       "      <td>1</td>\n",
       "      <td>Физические опасные и вредные производственные ...</td>\n",
       "      <td>6</td>\n",
       "      <td>asdfasdfd</td>\n",
       "      <td>4.20</td>\n",
       "      <td>Жамилов Ф.В.</td>\n",
       "      <td>59.0</td>\n",
       "      <td>25.0</td>\n",
       "    </tr>\n",
       "    <tr>\n",
       "      <th>1</th>\n",
       "      <td>2</td>\n",
       "      <td>Движущиеся машины и механизмы.</td>\n",
       "      <td>2</td>\n",
       "      <td></td>\n",
       "      <td>2.15</td>\n",
       "      <td></td>\n",
       "      <td>28.0</td>\n",
       "      <td>15.0</td>\n",
       "    </tr>\n",
       "    <tr>\n",
       "      <th>2</th>\n",
       "      <td>3</td>\n",
       "      <td>Подвижные части производственного оборудования.</td>\n",
       "      <td>7</td>\n",
       "      <td></td>\n",
       "      <td>3.45</td>\n",
       "      <td></td>\n",
       "      <td>35.0</td>\n",
       "      <td>34.0</td>\n",
       "    </tr>\n",
       "    <tr>\n",
       "      <th>3</th>\n",
       "      <td>4</td>\n",
       "      <td>Разрушающиеся конструкции.</td>\n",
       "      <td>3</td>\n",
       "      <td></td>\n",
       "      <td>2.45</td>\n",
       "      <td>Шрамович Ц.В.</td>\n",
       "      <td>24.0</td>\n",
       "      <td>25.0</td>\n",
       "    </tr>\n",
       "    <tr>\n",
       "      <th>4</th>\n",
       "      <td>5</td>\n",
       "      <td>Повышенная запыленность и загазованность возду...</td>\n",
       "      <td>7</td>\n",
       "      <td></td>\n",
       "      <td>7.10</td>\n",
       "      <td>Якубович В.А.</td>\n",
       "      <td>63.0</td>\n",
       "      <td>79.0</td>\n",
       "    </tr>\n",
       "  </tbody>\n",
       "</table>\n",
       "</div>"
      ],
      "text/plain": [
       "   risk_id                                          risk_name  risk_class_id  \\\n",
       "0        1  Физические опасные и вредные производственные ...              6   \n",
       "1        2                     Движущиеся машины и механизмы.              2   \n",
       "2        3    Подвижные части производственного оборудования.              7   \n",
       "3        4                         Разрушающиеся конструкции.              3   \n",
       "4        5  Повышенная запыленность и загазованность возду...              7   \n",
       "\n",
       "  risk_details  risk_score    risk_holder  risk_prob  risk_damage  \n",
       "0    asdfasdfd        4.20   Жамилов Ф.В.       59.0         25.0  \n",
       "1                     2.15                      28.0         15.0  \n",
       "2                     3.45                      35.0         34.0  \n",
       "3                     2.45  Шрамович Ц.В.       24.0         25.0  \n",
       "4                     7.10  Якубович В.А.       63.0         79.0  "
      ]
     },
     "execution_count": 7,
     "metadata": {},
     "output_type": "execute_result"
    }
   ],
   "source": [
    "df.head()"
   ]
  },
  {
   "cell_type": "code",
   "execution_count": 2,
   "metadata": {},
   "outputs": [],
   "source": [
    "import numpy as np"
   ]
  },
  {
   "cell_type": "code",
   "execution_count": 9,
   "metadata": {},
   "outputs": [
    {
     "data": {
      "text/plain": [
       "30"
      ]
     },
     "execution_count": 9,
     "metadata": {},
     "output_type": "execute_result"
    }
   ],
   "source": [
    "np.random.randint(0, 100)"
   ]
  },
  {
   "cell_type": "code",
   "execution_count": 13,
   "metadata": {},
   "outputs": [],
   "source": [
    "df[\"risk_prob\"] = df[\"risk_prob\"].fillna(value=pd.Series(np.random.randint(0, 100, size=len(df[\"risk_prob\"]))))"
   ]
  },
  {
   "cell_type": "code",
   "execution_count": 16,
   "metadata": {},
   "outputs": [],
   "source": [
    "df[\"risk_damage\"] = df[\"risk_damage\"].fillna(value=pd.Series(np.random.randint(0, 100, size=len(df[\"risk_damage\"]))))"
   ]
  },
  {
   "cell_type": "code",
   "execution_count": 17,
   "metadata": {},
   "outputs": [
    {
     "data": {
      "text/html": [
       "<div>\n",
       "<style scoped>\n",
       "    .dataframe tbody tr th:only-of-type {\n",
       "        vertical-align: middle;\n",
       "    }\n",
       "\n",
       "    .dataframe tbody tr th {\n",
       "        vertical-align: top;\n",
       "    }\n",
       "\n",
       "    .dataframe thead th {\n",
       "        text-align: right;\n",
       "    }\n",
       "</style>\n",
       "<table border=\"1\" class=\"dataframe\">\n",
       "  <thead>\n",
       "    <tr style=\"text-align: right;\">\n",
       "      <th></th>\n",
       "      <th>risk_id</th>\n",
       "      <th>risk_name</th>\n",
       "      <th>risk_class_id</th>\n",
       "      <th>risk_details</th>\n",
       "      <th>risk_score</th>\n",
       "      <th>risk_holder</th>\n",
       "      <th>risk_prob</th>\n",
       "      <th>risk_damage</th>\n",
       "    </tr>\n",
       "  </thead>\n",
       "  <tbody>\n",
       "    <tr>\n",
       "      <th>56</th>\n",
       "      <td>57</td>\n",
       "      <td>Нарушение требований, связанных с использовани...</td>\n",
       "      <td>5</td>\n",
       "      <td>None</td>\n",
       "      <td>4.0</td>\n",
       "      <td>None</td>\n",
       "      <td>86.0</td>\n",
       "      <td>67.0</td>\n",
       "    </tr>\n",
       "    <tr>\n",
       "      <th>57</th>\n",
       "      <td>58</td>\n",
       "      <td>Нарушение процедур изоляции или безопасной раб...</td>\n",
       "      <td>2</td>\n",
       "      <td>None</td>\n",
       "      <td>7.0</td>\n",
       "      <td>None</td>\n",
       "      <td>24.0</td>\n",
       "      <td>53.0</td>\n",
       "    </tr>\n",
       "    <tr>\n",
       "      <th>58</th>\n",
       "      <td>59</td>\n",
       "      <td>Неадекватность процедуры проведения администра...</td>\n",
       "      <td>1</td>\n",
       "      <td>None</td>\n",
       "      <td>4.0</td>\n",
       "      <td>None</td>\n",
       "      <td>53.0</td>\n",
       "      <td>54.0</td>\n",
       "    </tr>\n",
       "    <tr>\n",
       "      <th>59</th>\n",
       "      <td>60</td>\n",
       "      <td>Некомпетентность аудиторов.</td>\n",
       "      <td>1</td>\n",
       "      <td>None</td>\n",
       "      <td>5.0</td>\n",
       "      <td>None</td>\n",
       "      <td>34.0</td>\n",
       "      <td>81.0</td>\n",
       "    </tr>\n",
       "    <tr>\n",
       "      <th>60</th>\n",
       "      <td>72</td>\n",
       "      <td>Повышение пенсионного возраста</td>\n",
       "      <td>4</td>\n",
       "      <td></td>\n",
       "      <td>5.0</td>\n",
       "      <td>В.В. Златов</td>\n",
       "      <td>58.0</td>\n",
       "      <td>65.0</td>\n",
       "    </tr>\n",
       "  </tbody>\n",
       "</table>\n",
       "</div>"
      ],
      "text/plain": [
       "    risk_id                                          risk_name  risk_class_id  \\\n",
       "56       57  Нарушение требований, связанных с использовани...              5   \n",
       "57       58  Нарушение процедур изоляции или безопасной раб...              2   \n",
       "58       59  Неадекватность процедуры проведения администра...              1   \n",
       "59       60                        Некомпетентность аудиторов.              1   \n",
       "60       72                     Повышение пенсионного возраста              4   \n",
       "\n",
       "   risk_details  risk_score  risk_holder  risk_prob  risk_damage  \n",
       "56         None         4.0         None       86.0         67.0  \n",
       "57         None         7.0         None       24.0         53.0  \n",
       "58         None         4.0         None       53.0         54.0  \n",
       "59         None         5.0         None       34.0         81.0  \n",
       "60                      5.0  В.В. Златов       58.0         65.0  "
      ]
     },
     "execution_count": 17,
     "metadata": {},
     "output_type": "execute_result"
    }
   ],
   "source": [
    "df.tail()"
   ]
  },
  {
   "cell_type": "code",
   "execution_count": 18,
   "metadata": {},
   "outputs": [],
   "source": [
    "df[\"risk_score\"] = (df[\"risk_prob\"]+df[\"risk_damage\"])/20"
   ]
  },
  {
   "cell_type": "code",
   "execution_count": 20,
   "metadata": {},
   "outputs": [
    {
     "data": {
      "text/html": [
       "<div>\n",
       "<style scoped>\n",
       "    .dataframe tbody tr th:only-of-type {\n",
       "        vertical-align: middle;\n",
       "    }\n",
       "\n",
       "    .dataframe tbody tr th {\n",
       "        vertical-align: top;\n",
       "    }\n",
       "\n",
       "    .dataframe thead th {\n",
       "        text-align: right;\n",
       "    }\n",
       "</style>\n",
       "<table border=\"1\" class=\"dataframe\">\n",
       "  <thead>\n",
       "    <tr style=\"text-align: right;\">\n",
       "      <th></th>\n",
       "      <th>risk_id</th>\n",
       "      <th>risk_name</th>\n",
       "      <th>risk_class_id</th>\n",
       "      <th>risk_details</th>\n",
       "      <th>risk_score</th>\n",
       "      <th>risk_holder</th>\n",
       "      <th>risk_prob</th>\n",
       "      <th>risk_damage</th>\n",
       "    </tr>\n",
       "  </thead>\n",
       "  <tbody>\n",
       "    <tr>\n",
       "      <th>56</th>\n",
       "      <td>57</td>\n",
       "      <td>Нарушение требований, связанных с использовани...</td>\n",
       "      <td>5</td>\n",
       "      <td>None</td>\n",
       "      <td>7.65</td>\n",
       "      <td>None</td>\n",
       "      <td>86.0</td>\n",
       "      <td>67.0</td>\n",
       "    </tr>\n",
       "    <tr>\n",
       "      <th>57</th>\n",
       "      <td>58</td>\n",
       "      <td>Нарушение процедур изоляции или безопасной раб...</td>\n",
       "      <td>2</td>\n",
       "      <td>None</td>\n",
       "      <td>3.85</td>\n",
       "      <td>None</td>\n",
       "      <td>24.0</td>\n",
       "      <td>53.0</td>\n",
       "    </tr>\n",
       "    <tr>\n",
       "      <th>58</th>\n",
       "      <td>59</td>\n",
       "      <td>Неадекватность процедуры проведения администра...</td>\n",
       "      <td>1</td>\n",
       "      <td>None</td>\n",
       "      <td>5.35</td>\n",
       "      <td>None</td>\n",
       "      <td>53.0</td>\n",
       "      <td>54.0</td>\n",
       "    </tr>\n",
       "    <tr>\n",
       "      <th>59</th>\n",
       "      <td>60</td>\n",
       "      <td>Некомпетентность аудиторов.</td>\n",
       "      <td>1</td>\n",
       "      <td>None</td>\n",
       "      <td>5.75</td>\n",
       "      <td>None</td>\n",
       "      <td>34.0</td>\n",
       "      <td>81.0</td>\n",
       "    </tr>\n",
       "    <tr>\n",
       "      <th>60</th>\n",
       "      <td>72</td>\n",
       "      <td>Повышение пенсионного возраста</td>\n",
       "      <td>4</td>\n",
       "      <td></td>\n",
       "      <td>6.15</td>\n",
       "      <td>В.В. Златов</td>\n",
       "      <td>58.0</td>\n",
       "      <td>65.0</td>\n",
       "    </tr>\n",
       "  </tbody>\n",
       "</table>\n",
       "</div>"
      ],
      "text/plain": [
       "    risk_id                                          risk_name  risk_class_id  \\\n",
       "56       57  Нарушение требований, связанных с использовани...              5   \n",
       "57       58  Нарушение процедур изоляции или безопасной раб...              2   \n",
       "58       59  Неадекватность процедуры проведения администра...              1   \n",
       "59       60                        Некомпетентность аудиторов.              1   \n",
       "60       72                     Повышение пенсионного возраста              4   \n",
       "\n",
       "   risk_details  risk_score  risk_holder  risk_prob  risk_damage  \n",
       "56         None        7.65         None       86.0         67.0  \n",
       "57         None        3.85         None       24.0         53.0  \n",
       "58         None        5.35         None       53.0         54.0  \n",
       "59         None        5.75         None       34.0         81.0  \n",
       "60                     6.15  В.В. Златов       58.0         65.0  "
      ]
     },
     "execution_count": 20,
     "metadata": {},
     "output_type": "execute_result"
    }
   ],
   "source": [
    "df.tail()"
   ]
  },
  {
   "cell_type": "code",
   "execution_count": 22,
   "metadata": {},
   "outputs": [],
   "source": [
    "df.drop(columns=[\"risk_id\"], inplace=True)"
   ]
  },
  {
   "cell_type": "code",
   "execution_count": 23,
   "metadata": {},
   "outputs": [],
   "source": [
    "df.to_csv(\"old_data.csv\")"
   ]
  },
  {
   "attachments": {},
   "cell_type": "markdown",
   "metadata": {},
   "source": [
    "# new imports\n"
   ]
  },
  {
   "cell_type": "code",
   "execution_count": 3,
   "metadata": {},
   "outputs": [],
   "source": [
    "df = pd.read_csv(\"rr_df_data.csv\")"
   ]
  },
  {
   "cell_type": "code",
   "execution_count": 4,
   "metadata": {},
   "outputs": [
    {
     "data": {
      "text/plain": [
       "Index(['Unnamed: 0', 'risk_id', 'Наименование риска', 'Класс опасности',\n",
       "       'Вероятность', 'Ущерб', 'Риск', 'Возможные сценарии'],\n",
       "      dtype='object')"
      ]
     },
     "execution_count": 4,
     "metadata": {},
     "output_type": "execute_result"
    }
   ],
   "source": [
    "df.columns"
   ]
  },
  {
   "cell_type": "code",
   "execution_count": 5,
   "metadata": {},
   "outputs": [],
   "source": [
    "df.drop(columns=[\"Unnamed: 0\", \"risk_id\"], inplace=True)"
   ]
  },
  {
   "cell_type": "code",
   "execution_count": 6,
   "metadata": {},
   "outputs": [],
   "source": [
    "df.columns=[\"risk_name\", \"risk_class_name\", \"risk_prob_l\", \"risk_damage_l\", \"risk_score_l\", \"risk_details\"]"
   ]
  },
  {
   "cell_type": "code",
   "execution_count": 7,
   "metadata": {},
   "outputs": [
    {
     "name": "stdout",
     "output_type": "stream",
     "text": [
      "['Средняя' 'Низкая' 'Высокая' 'Средняя ' 'Очень низкая' 'Низкая ']\n",
      "['Средний' 'Высокий' 'Низкий' 'Очень высокий']\n"
     ]
    }
   ],
   "source": [
    "print(df[\"risk_prob_l\"].unique())\n",
    "print(df[\"risk_damage_l\"].unique())"
   ]
  },
  {
   "cell_type": "code",
   "execution_count": 8,
   "metadata": {},
   "outputs": [],
   "source": [
    "word_to_interval_prob = {\n",
    "    'Средняя':(40, 60),\n",
    "    'Низкая': (20, 40),\n",
    "    'Высокая':(60, 80),\n",
    "    'Средняя ':(40, 60),\n",
    "    'Очень низкая':(0, 20),\n",
    "    'Низкая ':(20, 40)\n",
    "    }\n",
    "word_to_interval_damage = {\n",
    "    'Средний':(40, 60),\n",
    "    'Высокий':(60, 80),\n",
    "    'Низкий' :(20, 40),\n",
    "    'Очень высокий':(80,100),\n",
    "}\n",
    "def generate_random_number(interval):\n",
    "    return np.random.randint(interval[0], interval[1])\n",
    "\n",
    "df[\"risk_prob\"] = df[\"risk_prob_l\"].map(word_to_interval_prob).apply(generate_random_number)\n",
    "df[\"risk_damage\"] = df[\"risk_damage_l\"].map(word_to_interval_damage).apply(generate_random_number)\n",
    "\n"
   ]
  },
  {
   "cell_type": "code",
   "execution_count": 9,
   "metadata": {},
   "outputs": [],
   "source": [
    "df[\"risk_score\"] = (df['risk_prob']+df[\"risk_damage\"])/20"
   ]
  },
  {
   "cell_type": "code",
   "execution_count": 10,
   "metadata": {},
   "outputs": [
    {
     "data": {
      "text/plain": [
       "array(['Технологические риски', 'Экологические риски', 'Риски персонала',\n",
       "       'Форс-мажорные риски', 'Юридические риски', 'Стратегические риски'],\n",
       "      dtype=object)"
      ]
     },
     "execution_count": 10,
     "metadata": {},
     "output_type": "execute_result"
    }
   ],
   "source": [
    "df[\"risk_class_name\"].unique()"
   ]
  },
  {
   "cell_type": "code",
   "execution_count": 11,
   "metadata": {},
   "outputs": [],
   "source": [
    "qcn = queryComposer(\"risk_classification\")\n",
    "raw_Data = qcn.select_query(order_opt=[\"risk_class_id\"])\n",
    "qcn.close_connection()\n",
    "rc_df = pd.DataFrame(raw_Data)"
   ]
  },
  {
   "cell_type": "code",
   "execution_count": 12,
   "metadata": {},
   "outputs": [],
   "source": [
    "merged_df = pd.merge(df, rc_df, on=\"risk_class_name\")"
   ]
  },
  {
   "cell_type": "code",
   "execution_count": 13,
   "metadata": {},
   "outputs": [],
   "source": [
    "final_df = merged_df[[\"risk_name\", \"risk_class_id\", \"risk_details\", \"risk_prob\", \"risk_damage\", \"risk_score\"]]"
   ]
  },
  {
   "cell_type": "code",
   "execution_count": 14,
   "metadata": {},
   "outputs": [
    {
     "data": {
      "text/html": [
       "<div>\n",
       "<style scoped>\n",
       "    .dataframe tbody tr th:only-of-type {\n",
       "        vertical-align: middle;\n",
       "    }\n",
       "\n",
       "    .dataframe tbody tr th {\n",
       "        vertical-align: top;\n",
       "    }\n",
       "\n",
       "    .dataframe thead th {\n",
       "        text-align: right;\n",
       "    }\n",
       "</style>\n",
       "<table border=\"1\" class=\"dataframe\">\n",
       "  <thead>\n",
       "    <tr style=\"text-align: right;\">\n",
       "      <th></th>\n",
       "      <th>risk_name</th>\n",
       "      <th>risk_class_id</th>\n",
       "      <th>risk_details</th>\n",
       "      <th>risk_prob</th>\n",
       "      <th>risk_damage</th>\n",
       "      <th>risk_score</th>\n",
       "    </tr>\n",
       "  </thead>\n",
       "  <tbody>\n",
       "    <tr>\n",
       "      <th>0</th>\n",
       "      <td>Утечка газообразного азота</td>\n",
       "      <td>3</td>\n",
       "      <td>a. Утечка газообразного азота может привести к...</td>\n",
       "      <td>50</td>\n",
       "      <td>45</td>\n",
       "      <td>4.75</td>\n",
       "    </tr>\n",
       "    <tr>\n",
       "      <th>1</th>\n",
       "      <td>Утечка сероводорода, сероводорода в смеси с уг...</td>\n",
       "      <td>3</td>\n",
       "      <td>a. Утечка индустриального масла может вызвать ...</td>\n",
       "      <td>41</td>\n",
       "      <td>55</td>\n",
       "      <td>4.80</td>\n",
       "    </tr>\n",
       "    <tr>\n",
       "      <th>2</th>\n",
       "      <td>Загазованность рабочих помещений и территории ...</td>\n",
       "      <td>3</td>\n",
       "      <td>a. Утечка газа через неплотности фланцевых сое...</td>\n",
       "      <td>69</td>\n",
       "      <td>60</td>\n",
       "      <td>6.45</td>\n",
       "    </tr>\n",
       "    <tr>\n",
       "      <th>3</th>\n",
       "      <td>Применение при производстве ремонтных работ не...</td>\n",
       "      <td>3</td>\n",
       "      <td>a. Использование неисправного инструмента в зо...</td>\n",
       "      <td>51</td>\n",
       "      <td>56</td>\n",
       "      <td>5.35</td>\n",
       "    </tr>\n",
       "    <tr>\n",
       "      <th>4</th>\n",
       "      <td>Неисправность технологического оборудования, с...</td>\n",
       "      <td>3</td>\n",
       "      <td>a. Отказ технологического оборудования - наруш...</td>\n",
       "      <td>71</td>\n",
       "      <td>72</td>\n",
       "      <td>7.15</td>\n",
       "    </tr>\n",
       "  </tbody>\n",
       "</table>\n",
       "</div>"
      ],
      "text/plain": [
       "                                           risk_name  risk_class_id  \\\n",
       "0                         Утечка газообразного азота              3   \n",
       "1  Утечка сероводорода, сероводорода в смеси с уг...              3   \n",
       "2  Загазованность рабочих помещений и территории ...              3   \n",
       "3  Применение при производстве ремонтных работ не...              3   \n",
       "4  Неисправность технологического оборудования, с...              3   \n",
       "\n",
       "                                        risk_details  risk_prob  risk_damage  \\\n",
       "0  a. Утечка газообразного азота может привести к...         50           45   \n",
       "1  a. Утечка индустриального масла может вызвать ...         41           55   \n",
       "2  a. Утечка газа через неплотности фланцевых сое...         69           60   \n",
       "3  a. Использование неисправного инструмента в зо...         51           56   \n",
       "4  a. Отказ технологического оборудования - наруш...         71           72   \n",
       "\n",
       "   risk_score  \n",
       "0        4.75  \n",
       "1        4.80  \n",
       "2        6.45  \n",
       "3        5.35  \n",
       "4        7.15  "
      ]
     },
     "execution_count": 14,
     "metadata": {},
     "output_type": "execute_result"
    }
   ],
   "source": [
    "final_df.head(5)"
   ]
  },
  {
   "cell_type": "code",
   "execution_count": 15,
   "metadata": {},
   "outputs": [],
   "source": [
    "final_df.to_csv(\"risk_register_final.csv\")"
   ]
  },
  {
   "cell_type": "code",
   "execution_count": 19,
   "metadata": {},
   "outputs": [],
   "source": [
    "check_df = pd.read_csv(\"risk_register_final.csv\")\n",
    "check_df.drop(columns=[\"Unnamed: 0\"], inplace=True)\n"
   ]
  },
  {
   "cell_type": "code",
   "execution_count": 20,
   "metadata": {},
   "outputs": [
    {
     "data": {
      "text/html": [
       "<div>\n",
       "<style scoped>\n",
       "    .dataframe tbody tr th:only-of-type {\n",
       "        vertical-align: middle;\n",
       "    }\n",
       "\n",
       "    .dataframe tbody tr th {\n",
       "        vertical-align: top;\n",
       "    }\n",
       "\n",
       "    .dataframe thead th {\n",
       "        text-align: right;\n",
       "    }\n",
       "</style>\n",
       "<table border=\"1\" class=\"dataframe\">\n",
       "  <thead>\n",
       "    <tr style=\"text-align: right;\">\n",
       "      <th></th>\n",
       "      <th>risk_name</th>\n",
       "      <th>risk_class_id</th>\n",
       "      <th>risk_details</th>\n",
       "      <th>risk_prob</th>\n",
       "      <th>risk_damage</th>\n",
       "      <th>risk_score</th>\n",
       "    </tr>\n",
       "  </thead>\n",
       "  <tbody>\n",
       "    <tr>\n",
       "      <th>0</th>\n",
       "      <td>Утечка газообразного азота</td>\n",
       "      <td>3</td>\n",
       "      <td>a. Утечка газообразного азота может привести к...</td>\n",
       "      <td>50</td>\n",
       "      <td>45</td>\n",
       "      <td>4.75</td>\n",
       "    </tr>\n",
       "    <tr>\n",
       "      <th>1</th>\n",
       "      <td>Утечка сероводорода, сероводорода в смеси с уг...</td>\n",
       "      <td>3</td>\n",
       "      <td>a. Утечка индустриального масла может вызвать ...</td>\n",
       "      <td>41</td>\n",
       "      <td>55</td>\n",
       "      <td>4.80</td>\n",
       "    </tr>\n",
       "    <tr>\n",
       "      <th>2</th>\n",
       "      <td>Загазованность рабочих помещений и территории ...</td>\n",
       "      <td>3</td>\n",
       "      <td>a. Утечка газа через неплотности фланцевых сое...</td>\n",
       "      <td>69</td>\n",
       "      <td>60</td>\n",
       "      <td>6.45</td>\n",
       "    </tr>\n",
       "    <tr>\n",
       "      <th>3</th>\n",
       "      <td>Применение при производстве ремонтных работ не...</td>\n",
       "      <td>3</td>\n",
       "      <td>a. Использование неисправного инструмента в зо...</td>\n",
       "      <td>51</td>\n",
       "      <td>56</td>\n",
       "      <td>5.35</td>\n",
       "    </tr>\n",
       "    <tr>\n",
       "      <th>4</th>\n",
       "      <td>Неисправность технологического оборудования, с...</td>\n",
       "      <td>3</td>\n",
       "      <td>a. Отказ технологического оборудования - наруш...</td>\n",
       "      <td>71</td>\n",
       "      <td>72</td>\n",
       "      <td>7.15</td>\n",
       "    </tr>\n",
       "  </tbody>\n",
       "</table>\n",
       "</div>"
      ],
      "text/plain": [
       "                                           risk_name  risk_class_id  \\\n",
       "0                         Утечка газообразного азота              3   \n",
       "1  Утечка сероводорода, сероводорода в смеси с уг...              3   \n",
       "2  Загазованность рабочих помещений и территории ...              3   \n",
       "3  Применение при производстве ремонтных работ не...              3   \n",
       "4  Неисправность технологического оборудования, с...              3   \n",
       "\n",
       "                                        risk_details  risk_prob  risk_damage  \\\n",
       "0  a. Утечка газообразного азота может привести к...         50           45   \n",
       "1  a. Утечка индустриального масла может вызвать ...         41           55   \n",
       "2  a. Утечка газа через неплотности фланцевых сое...         69           60   \n",
       "3  a. Использование неисправного инструмента в зо...         51           56   \n",
       "4  a. Отказ технологического оборудования - наруш...         71           72   \n",
       "\n",
       "   risk_score  \n",
       "0        4.75  \n",
       "1        4.80  \n",
       "2        6.45  \n",
       "3        5.35  \n",
       "4        7.15  "
      ]
     },
     "execution_count": 20,
     "metadata": {},
     "output_type": "execute_result"
    }
   ],
   "source": [
    "check_df.head()\n"
   ]
  },
  {
   "cell_type": "code",
   "execution_count": 49,
   "metadata": {},
   "outputs": [],
   "source": [
    "import psycopg2\n",
    "DEFAULT_CONNECTION_PARAMS = {\n",
    "    \"dbname\": \"oil_factory_db\",\n",
    "    \"user\": \"of_user\",\n",
    "    \"password\": \"9028\",\n",
    "    \"host\": \"localhost\",\n",
    "}\n",
    "conn = psycopg2.connect(**DEFAULT_CONNECTION_PARAMS)\n"
   ]
  },
  {
   "cell_type": "code",
   "execution_count": 57,
   "metadata": {},
   "outputs": [],
   "source": [
    "for idx,rec in final_df.iterrows():\n",
    "    tmp = dict(rec)\n",
    "    qc = queryComposer(\"risk_register\")\n",
    "    qc.insert_query(tmp)\n",
    "    qc.close_connection()"
   ]
  },
  {
   "attachments": {},
   "cell_type": "markdown",
   "metadata": {},
   "source": [
    "# начинаем вносить меры предосторожности\n"
   ]
  },
  {
   "cell_type": "code",
   "execution_count": 21,
   "metadata": {},
   "outputs": [],
   "source": [
    "pm_df = pd.read_csv(\"pm_df_data.csv\")"
   ]
  },
  {
   "cell_type": "code",
   "execution_count": 22,
   "metadata": {},
   "outputs": [],
   "source": [
    "pm_df.drop(columns=[\"Unnamed: 0\"], inplace= True)\n"
   ]
  },
  {
   "cell_type": "code",
   "execution_count": 23,
   "metadata": {},
   "outputs": [],
   "source": [
    "pm_df.columns = [\"risk_id\", \"prevention_measure_name\"]"
   ]
  },
  {
   "cell_type": "code",
   "execution_count": 24,
   "metadata": {},
   "outputs": [
    {
     "data": {
      "text/html": [
       "<div>\n",
       "<style scoped>\n",
       "    .dataframe tbody tr th:only-of-type {\n",
       "        vertical-align: middle;\n",
       "    }\n",
       "\n",
       "    .dataframe tbody tr th {\n",
       "        vertical-align: top;\n",
       "    }\n",
       "\n",
       "    .dataframe thead th {\n",
       "        text-align: right;\n",
       "    }\n",
       "</style>\n",
       "<table border=\"1\" class=\"dataframe\">\n",
       "  <thead>\n",
       "    <tr style=\"text-align: right;\">\n",
       "      <th></th>\n",
       "      <th>risk_id</th>\n",
       "      <th>prevention_measure_name</th>\n",
       "    </tr>\n",
       "  </thead>\n",
       "  <tbody>\n",
       "    <tr>\n",
       "      <th>0</th>\n",
       "      <td>1</td>\n",
       "      <td>a. Регулярное техническое обслуживание и прове...</td>\n",
       "    </tr>\n",
       "    <tr>\n",
       "      <th>1</th>\n",
       "      <td>1</td>\n",
       "      <td>b. Обучение персонала правилам эксплуатации и ...</td>\n",
       "    </tr>\n",
       "    <tr>\n",
       "      <th>2</th>\n",
       "      <td>1</td>\n",
       "      <td>c. Установка датчиков кислорода и сигнализации...</td>\n",
       "    </tr>\n",
       "    <tr>\n",
       "      <th>3</th>\n",
       "      <td>1</td>\n",
       "      <td>d. Использование специальных средств индивидуа...</td>\n",
       "    </tr>\n",
       "    <tr>\n",
       "      <th>4</th>\n",
       "      <td>2</td>\n",
       "      <td>a. Регулярное техническое обслуживание и прове...</td>\n",
       "    </tr>\n",
       "  </tbody>\n",
       "</table>\n",
       "</div>"
      ],
      "text/plain": [
       "   risk_id                            prevention_measure_name\n",
       "0        1  a. Регулярное техническое обслуживание и прове...\n",
       "1        1  b. Обучение персонала правилам эксплуатации и ...\n",
       "2        1  c. Установка датчиков кислорода и сигнализации...\n",
       "3        1  d. Использование специальных средств индивидуа...\n",
       "4        2  a. Регулярное техническое обслуживание и прове..."
      ]
     },
     "execution_count": 24,
     "metadata": {},
     "output_type": "execute_result"
    }
   ],
   "source": [
    "pm_df.head()"
   ]
  },
  {
   "cell_type": "code",
   "execution_count": 65,
   "metadata": {},
   "outputs": [
    {
     "ename": "ForeignKeyViolation",
     "evalue": "ОШИБКА:  INSERT или UPDATE в таблице \"prevention_measures\" нарушает ограничение внешнего ключа \"prevention_measures_risk_id_fkey\"\nDETAIL:  Ключ (risk_id)=(46) отсутствует в таблице \"risk_register\".\n",
     "output_type": "error",
     "traceback": [
      "\u001b[1;31m---------------------------------------------------------------------------\u001b[0m",
      "\u001b[1;31mForeignKeyViolation\u001b[0m                       Traceback (most recent call last)",
      "Cell \u001b[1;32mIn[65], line 3\u001b[0m\n\u001b[0;32m      1\u001b[0m \u001b[39mfor\u001b[39;00m _,rec \u001b[39min\u001b[39;00m pm_df\u001b[39m.\u001b[39miterrows():\n\u001b[0;32m      2\u001b[0m     qc \u001b[39m=\u001b[39m queryComposer(\u001b[39m\"\u001b[39m\u001b[39mprevention_measures\u001b[39m\u001b[39m\"\u001b[39m)\n\u001b[1;32m----> 3\u001b[0m     qc\u001b[39m.\u001b[39;49minsert_query(\u001b[39mdict\u001b[39;49m(rec))\n\u001b[0;32m      4\u001b[0m     qc\u001b[39m.\u001b[39mclose_connection()\n",
      "File \u001b[1;32mc:\\Users\\Miqasa\\Desktop\\pr\\some_oili_stuff\\docs\\db_operation_functions.py:89\u001b[0m, in \u001b[0;36mqueryComposer.insert_query\u001b[1;34m(self, kwargs)\u001b[0m\n\u001b[0;32m     84\u001b[0m value_template \u001b[39m=\u001b[39m Template(value_string)\n\u001b[0;32m     85\u001b[0m query \u001b[39m=\u001b[39m (\n\u001b[0;32m     86\u001b[0m     \u001b[39mf\u001b[39m\u001b[39m\"\u001b[39m\u001b[39minsert into \u001b[39m\u001b[39m{\u001b[39;00m\u001b[39mself\u001b[39m\u001b[39m.\u001b[39mtable_name\u001b[39m}\u001b[39;00m\u001b[39m{\u001b[39;00minsert_string\u001b[39m}\u001b[39;00m\u001b[39m \u001b[39m\u001b[39m\"\u001b[39m\n\u001b[0;32m     87\u001b[0m     \u001b[39mf\u001b[39m\u001b[39m\"\u001b[39m\u001b[39mvalues \u001b[39m\u001b[39m{\u001b[39;00mvalue_template\u001b[39m.\u001b[39msubstitute(processed_data)\u001b[39m}\u001b[39;00m\u001b[39m;\u001b[39m\u001b[39m\"\u001b[39m\n\u001b[0;32m     88\u001b[0m )\n\u001b[1;32m---> 89\u001b[0m cursor\u001b[39m.\u001b[39;49mexecute(query)\n\u001b[0;32m     90\u001b[0m \u001b[39mself\u001b[39m\u001b[39m.\u001b[39mconn\u001b[39m.\u001b[39mcommit()\n\u001b[0;32m     91\u001b[0m cursor\u001b[39m.\u001b[39mclose()\n",
      "\u001b[1;31mForeignKeyViolation\u001b[0m: ОШИБКА:  INSERT или UPDATE в таблице \"prevention_measures\" нарушает ограничение внешнего ключа \"prevention_measures_risk_id_fkey\"\nDETAIL:  Ключ (risk_id)=(46) отсутствует в таблице \"risk_register\".\n"
     ]
    }
   ],
   "source": [
    "for _,rec in pm_df.iterrows():\n",
    "    qc = queryComposer(\"prevention_measures\")\n",
    "    try:\n",
    "        qc.insert_query(dict(rec))\n",
    "    except:\n",
    "        print(\"oshibqa\")\n",
    "    qc.close_connection()\n"
   ]
  },
  {
   "cell_type": "code",
   "execution_count": null,
   "metadata": {},
   "outputs": [],
   "source": []
  }
 ],
 "metadata": {
  "kernelspec": {
   "display_name": "Python 3",
   "language": "python",
   "name": "python3"
  },
  "language_info": {
   "codemirror_mode": {
    "name": "ipython",
    "version": 3
   },
   "file_extension": ".py",
   "mimetype": "text/x-python",
   "name": "python",
   "nbconvert_exporter": "python",
   "pygments_lexer": "ipython3",
   "version": "3.10.7"
  },
  "orig_nbformat": 4
 },
 "nbformat": 4,
 "nbformat_minor": 2
}
